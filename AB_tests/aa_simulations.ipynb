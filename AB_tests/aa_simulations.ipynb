{
 "cells": [
  {
   "cell_type": "code",
   "execution_count": 1,
   "id": "efc44daf-004b-44d3-a85b-b9a88cee0f13",
   "metadata": {},
   "outputs": [],
   "source": [
    "# импортируем библиотеки\n",
    "\n",
    "import pandas as pd\n",
    "import pandahouse\n",
    "import numpy as np\n",
    "import hashlib\n",
    "from scipy import stats\n",
    "import matplotlib.pyplot as plt\n",
    "import seaborn as sns\n",
    "from swifter import swifter"
   ]
  },
  {
   "cell_type": "code",
   "execution_count": 2,
   "id": "5dc76e83-0d32-4c5b-98ea-47c2d028f8ee",
   "metadata": {},
   "outputs": [
    {
     "name": "stdout",
     "output_type": "stream",
     "text": [
      "   exp_group  user_id  likes  views       ctr\n",
      "0          3   115383     38    248  0.153226\n",
      "1          3    10326     24    132  0.181818\n",
      "2          3   123580     25    122  0.204918\n",
      "3          2   131473     19     98  0.193878\n",
      "4          2    23985     12     44  0.272727\n"
     ]
    }
   ],
   "source": [
    "# считываем нужные данные из clickhouse в датафрейм\n",
    "\n",
    "connection = {\n",
    "    'host': 'https://clickhouse.lab.karpov.courses',\n",
    "    'password': 'dpo_python_2020',\n",
    "    'user': 'student',\n",
    "    'database': 'simulator_20230820'\n",
    "}\n",
    "\n",
    "q = '''\n",
    "SELECT\n",
    "    exp_group, \n",
    "    user_id,\n",
    "    sum(action = 'like') as likes,\n",
    "    sum(action = 'view') as views,\n",
    "    likes/views as ctr\n",
    "FROM \n",
    "    {db}.feed_actions \n",
    "WHERE \n",
    "    toDate(time) BETWEEN '2023-07-23' AND '2023-07-29'\n",
    "    AND exp_group IN (2, 3)\n",
    "GROUP BY exp_group, user_id\n",
    "'''\n",
    "\n",
    "df = pandahouse.read_clickhouse(q, connection=connection)\n",
    "\n",
    "print(df.head())"
   ]
  },
  {
   "cell_type": "code",
   "execution_count": 58,
   "id": "15c79b90-3c07-420a-9329-7a82129c655b",
   "metadata": {},
   "outputs": [],
   "source": [
    "# Симулируем проведение 10000 А/А-тестов на подвыборках без повторения в 500 юзеров из 2 и 3 экспериментальной группы\n",
    "\n",
    "p_values = [stats.ttest_ind(df[df.exp_group == 2].ctr.sample(500),\n",
    "                           df[df.exp_group == 3].ctr.sample(500),\n",
    "                           equal_var=False).pvalue \n",
    "           for _ in range(10000)]"
   ]
  },
  {
   "cell_type": "code",
   "execution_count": 59,
   "id": "25e8817d-4e87-4274-a265-a2f497875ddc",
   "metadata": {},
   "outputs": [
    {
     "data": {
      "text/plain": [
       "<Axes: ylabel='Count'>"
      ]
     },
     "execution_count": 59,
     "metadata": {},
     "output_type": "execute_result"
    },
    {
     "data": {
      "image/png": "[encoded data removed]",
      "text/plain": [
       "<Figure size 432x288 with 1 Axes>"
      ]
     },
     "metadata": {
      "needs_background": "light"
     },
     "output_type": "display_data"
    }
   ],
   "source": [
    "# Строим гистограмму распределения получившихся 10000 p-values\n",
    "\n",
    "sns.histplot(p_values)"
   ]
  },
  {
   "cell_type": "code",
   "execution_count": 65,
   "id": "1d3d0fee-8e99-4f58-94ff-4e3a03c84f9b",
   "metadata": {},
   "outputs": [
    {
     "data": {
      "text/plain": [
       "4.47"
      ]
     },
     "execution_count": 65,
     "metadata": {},
     "output_type": "execute_result"
    }
   ],
   "source": [
    "# Считаем, какой процент p values оказался меньше либо равен 0.05\n",
    "\n",
    "len([p for p in p_values if p <= 0.05]) / len(p_values) * 100\n"
   ]
  },
  {
   "cell_type": "markdown",
   "id": "26c188b7-23de-4893-a12c-b4e0d247ae9e",
   "metadata": {
    "tags": []
   },
   "source": [
    "### Вывод\n",
    "\n",
    "4.47% p-values меньше или равны 0.05, это говорит о том, что случайные статистические различия между группами возникают в пределах ожидаемого уровня значимости. Что подтверждает корректность работы системы сплитования.\n"
   ]
  }
 ],
 "metadata": {
  "kernelspec": {
   "display_name": "Python 3 (ipykernel)",
   "language": "python",
   "name": "python3"
  },
  "language_info": {
   "codemirror_mode": {
    "name": "ipython",
    "version": 3
   },
   "file_extension": ".py",
   "mimetype": "text/x-python",
   "name": "python",
   "nbconvert_exporter": "python",
   "pygments_lexer": "ipython3",
   "version": "3.8.10"
  }
 },
 "nbformat": 4,
 "nbformat_minor": 5
}
