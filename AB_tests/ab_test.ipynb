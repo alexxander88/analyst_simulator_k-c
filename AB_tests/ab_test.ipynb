{
 "cells": [
  {
   "cell_type": "code",
   "execution_count": 1,
   "id": "9663bf61-d148-42c6-9f4e-3a9e2eafae4a",
   "metadata": {},
   "outputs": [],
   "source": [
    "# импортируем библиотеки\n",
    "\n",
    "import pandas as pd\n",
    "import pandahouse\n",
    "import numpy as np\n",
    "import hashlib\n",
    "from scipy import stats\n",
    "import matplotlib.pyplot as plt\n",
    "import seaborn as sns\n",
    "from swifter import swifter"
   ]
  },
  {
   "cell_type": "code",
   "execution_count": 2,
   "id": "5fa04cca-f14e-4071-aea5-37903409c0eb",
   "metadata": {},
   "outputs": [
    {
     "name": "stdout",
     "output_type": "stream",
     "text": [
      "   exp_group  user_id  likes  views       ctr\n",
      "0          1   109963      3     15  0.200000\n",
      "1          1    26117     32    141  0.226950\n",
      "2          1   138232     18     73  0.246575\n",
      "3          1    18392      7     32  0.218750\n",
      "4          1    26295     39    141  0.276596\n"
     ]
    }
   ],
   "source": [
    "# считываем нужные данные из clickhouse в датафрейм\n",
    "connection = {\n",
    "    'host': 'https://clickhouse.lab.karpov.courses',\n",
    "    'password': 'dpo_python_2020',\n",
    "    'user': 'student',\n",
    "    'database': 'simulator_20230820'\n",
    "}\n",
    "\n",
    "q = '''\n",
    "SELECT\n",
    "    exp_group, \n",
    "    user_id,\n",
    "    sum(action = 'like') as likes,\n",
    "    sum(action = 'view') as views,\n",
    "    likes/views as ctr\n",
    "FROM \n",
    "    {db}.feed_actions \n",
    "WHERE \n",
    "    toDate(time) BETWEEN '2023-07-30' AND '2023-08-05'\n",
    "    AND exp_group IN (1, 2)\n",
    "GROUP BY exp_group, user_id\n",
    "'''\n",
    "\n",
    "df1 = pandahouse.read_clickhouse(q, connection=connection)\n",
    "\n",
    "#выводим заголовок датафрейма\n",
    "print(df1.head())"
   ]
  },
  {
   "cell_type": "code",
   "execution_count": 3,
   "id": "a308ac82-c6dc-42ba-8239-644ee4d26326",
   "metadata": {},
   "outputs": [
    {
     "data": {
      "text/html": [
       "<div>\n",
       "<style scoped>\n",
       "    .dataframe tbody tr th:only-of-type {\n",
       "        vertical-align: middle;\n",
       "    }\n",
       "\n",
       "    .dataframe tbody tr th {\n",
       "        vertical-align: top;\n",
       "    }\n",
       "\n",
       "    .dataframe thead th {\n",
       "        text-align: right;\n",
       "    }\n",
       "</style>\n",
       "<table border=\"1\" class=\"dataframe\">\n",
       "  <thead>\n",
       "    <tr style=\"text-align: right;\">\n",
       "      <th></th>\n",
       "      <th>count</th>\n",
       "      <th>mean</th>\n",
       "      <th>std</th>\n",
       "      <th>min</th>\n",
       "      <th>25%</th>\n",
       "      <th>50%</th>\n",
       "      <th>75%</th>\n",
       "      <th>max</th>\n",
       "    </tr>\n",
       "    <tr>\n",
       "      <th>exp_group</th>\n",
       "      <th></th>\n",
       "      <th></th>\n",
       "      <th></th>\n",
       "      <th></th>\n",
       "      <th></th>\n",
       "      <th></th>\n",
       "      <th></th>\n",
       "      <th></th>\n",
       "    </tr>\n",
       "  </thead>\n",
       "  <tbody>\n",
       "    <tr>\n",
       "      <th>1</th>\n",
       "      <td>10020.0</td>\n",
       "      <td>0.216774</td>\n",
       "      <td>0.082969</td>\n",
       "      <td>0.0</td>\n",
       "      <td>0.163636</td>\n",
       "      <td>0.205882</td>\n",
       "      <td>0.257870</td>\n",
       "      <td>0.722222</td>\n",
       "    </tr>\n",
       "    <tr>\n",
       "      <th>2</th>\n",
       "      <td>9877.0</td>\n",
       "      <td>0.216102</td>\n",
       "      <td>0.142870</td>\n",
       "      <td>0.0</td>\n",
       "      <td>0.096774</td>\n",
       "      <td>0.153285</td>\n",
       "      <td>0.323529</td>\n",
       "      <td>0.900000</td>\n",
       "    </tr>\n",
       "  </tbody>\n",
       "</table>\n",
       "</div>"
      ],
      "text/plain": [
       "             count      mean       std  min       25%       50%       75%  \\\n",
       "exp_group                                                                   \n",
       "1          10020.0  0.216774  0.082969  0.0  0.163636  0.205882  0.257870   \n",
       "2           9877.0  0.216102  0.142870  0.0  0.096774  0.153285  0.323529   \n",
       "\n",
       "                max  \n",
       "exp_group            \n",
       "1          0.722222  \n",
       "2          0.900000  "
      ]
     },
     "execution_count": 3,
     "metadata": {},
     "output_type": "execute_result"
    }
   ],
   "source": [
    "# посмотрим на описательную статистику ctr по группам\n",
    "df1.groupby('exp_group').ctr.describe()"
   ]
  },
  {
   "cell_type": "markdown",
   "id": "f15e2696-79d1-4f62-afa9-655cdd0e8a79",
   "metadata": {},
   "source": [
    "Средние значения CTR в тестовой и контрольной группах отличаются только с четвертого знака после запятой, но есть явные различия в стандартном отклонении и квантилях."
   ]
  },
  {
   "cell_type": "code",
   "execution_count": 22,
   "id": "a1eb5cba-cbba-4ebd-9d16-6a8cdd296a8e",
   "metadata": {},
   "outputs": [
    {
     "data": {
      "text/plain": [
       "<Axes: xlabel='ctr', ylabel='Count'>"
      ]
     },
     "execution_count": 22,
     "metadata": {},
     "output_type": "execute_result"
    },
    {
     "data": {
      "image/png": "[encoded data removed]",
      "text/plain": [
       "<Figure size 842.4x595.44 with 1 Axes>"
      ]
     },
     "metadata": {},
     "output_type": "display_data"
    }
   ],
   "source": [
    "# увеличим размер графика\n",
    "sns.set(rc={'figure.figsize':(11.7,8.27)})\n",
    "\n",
    "# построим гистограмму и визуально оценим распределение значений ctr в тестовой и контрольной группах\n",
    "sns.histplot(data=df1, x='ctr', hue='exp_group', palette=['r', 'b'])"
   ]
  },
  {
   "cell_type": "markdown",
   "id": "b8fee247-0219-47df-a76f-d4b2228f0421",
   "metadata": {},
   "source": [
    "Визуально заметны различия. Распределение CTR в тестовой группе является двугорбым, в то время как в контрольной группе оно приближено к нормальному. Такое наблюдение может указывать на наличие различий в поведении пользователей в двух группах. Причиной двугорбости может быть влияние нового алгоритма рекомендации на разные сегменты пользователей. Например, на один сегмент алгоритм может оказывать положительное воздействие, а на другой - отрицательное."
   ]
  },
  {
   "cell_type": "code",
   "execution_count": 5,
   "id": "008d29db-6c33-47e2-8a52-b1026d77fdf7",
   "metadata": {},
   "outputs": [],
   "source": [
    "# для удобства введем переменные для контрольной и тестовой групп\n",
    "control = df1[df1.exp_group == 1]\n",
    "test = df1[df1.exp_group == 2]"
   ]
  },
  {
   "cell_type": "code",
   "execution_count": 6,
   "id": "251234f4-11b6-4475-9a3f-eb91fd6bb268",
   "metadata": {},
   "outputs": [
    {
     "data": {
      "text/plain": [
       "Ttest_indResult(statistic=-0.4051491913112757, pvalue=0.685373331140751)"
      ]
     },
     "execution_count": 6,
     "metadata": {},
     "output_type": "execute_result"
    }
   ],
   "source": [
    "# t-тест\n",
    "stats.ttest_ind(test.ctr, control.ctr, equal_var=False)"
   ]
  },
  {
   "cell_type": "markdown",
   "id": "1d7600ac-79a9-497f-baf1-0f6363d5ce8b",
   "metadata": {},
   "source": [
    "T-тест не фиксирует статистически значимых различий, но он предполагает, что данные в выборках имеют нормальное распределение, и если это не выполняется, результаты теста могут быть неправильными. А ранее было отмечено, распеределение в контрольной группе двугорбое."
   ]
  },
  {
   "cell_type": "code",
   "execution_count": 7,
   "id": "7cfade00-ade9-49f5-baa3-9d3d8cb65f0b",
   "metadata": {},
   "outputs": [
    {
     "data": {
      "text/plain": [
       "MannwhitneyuResult(statistic=43777627.0, pvalue=4.632205841806026e-45)"
      ]
     },
     "execution_count": 7,
     "metadata": {},
     "output_type": "execute_result"
    }
   ],
   "source": [
    "# тест Манна-Уитни\n",
    "\n",
    "stats.mannwhitneyu(test.ctr, control.ctr)"
   ]
  },
  {
   "cell_type": "markdown",
   "id": "a53579fd-36f9-4e7d-b8b1-0bfbdd68fcdf",
   "metadata": {},
   "source": [
    "Тест Манна-Уитни прокрасился, зафиксировано статистически значимое различие. Возможно, причина состоит в том, что он основан не на проверке равенства средних значений, а на сравнении двух независимых выборок и определении, отличаются ли они друг от друга в целом."
   ]
  },
  {
   "cell_type": "markdown",
   "id": "09e9b1e3-b368-43b2-be9e-f4383cdf61ad",
   "metadata": {},
   "source": [
    "# Сглаженный CTR "
   ]
  },
  {
   "cell_type": "code",
   "execution_count": 8,
   "id": "9cc4b0f7-86e6-4a9a-80af-091262187356",
   "metadata": {},
   "outputs": [],
   "source": [
    "# напишем функцию для получения сглаженного CTR\n",
    "\n",
    "def get_smothed_ctr(user_likes, user_views, global_ctr, alpha):\n",
    "    smothed_ctr = (user_likes + alpha * global_ctr) / (user_views + alpha)\n",
    "    return smothed_ctr"
   ]
  },
  {
   "cell_type": "code",
   "execution_count": 9,
   "id": "fcb625f5-b45b-4c40-b810-a2f12a9866ec",
   "metadata": {},
   "outputs": [],
   "source": [
    "# посчитаем глобальный CTR в группах\n",
    "\n",
    "control_global_ctr = control.likes.sum() / control.views.sum()\n",
    "test_global_ctr = test.likes.sum() / test.views.sum()"
   ]
  },
  {
   "cell_type": "code",
   "execution_count": 10,
   "id": "3000e6f0-750a-4601-9bcf-3db2b3c4a278",
   "metadata": {},
   "outputs": [
    {
     "name": "stderr",
     "output_type": "stream",
     "text": [
      "/tmp/ipykernel_368/4206524274.py:3: SettingWithCopyWarning: \n",
      "A value is trying to be set on a copy of a slice from a DataFrame.\n",
      "Try using .loc[row_indexer,col_indexer] = value instead\n",
      "\n",
      "See the caveats in the documentation: https://pandas.pydata.org/pandas-docs/stable/user_guide/indexing.html#returning-a-view-versus-a-copy\n",
      "  control['smoothed_ctr'] = get_smothed_ctr(control.likes, control.views, control_global_ctr, 5)\n",
      "/tmp/ipykernel_368/4206524274.py:5: SettingWithCopyWarning: \n",
      "A value is trying to be set on a copy of a slice from a DataFrame.\n",
      "Try using .loc[row_indexer,col_indexer] = value instead\n",
      "\n",
      "See the caveats in the documentation: https://pandas.pydata.org/pandas-docs/stable/user_guide/indexing.html#returning-a-view-versus-a-copy\n",
      "  test['smoothed_ctr'] = get_smothed_ctr(test.likes, test.views, test_global_ctr, 5)\n"
     ]
    }
   ],
   "source": [
    "# добавим к данным метрику сглаженный CTR\n",
    "\n",
    "control['smoothed_ctr'] = get_smothed_ctr(control.likes, control.views, control_global_ctr, 5)\n",
    "\n",
    "test['smoothed_ctr'] = get_smothed_ctr(test.likes, test.views, test_global_ctr, 5)"
   ]
  },
  {
   "cell_type": "code",
   "execution_count": 11,
   "id": "08ed7ae6-6e54-49ad-a5c9-c6348a02d482",
   "metadata": {},
   "outputs": [
    {
     "data": {
      "text/html": [
       "<div>\n",
       "<style scoped>\n",
       "    .dataframe tbody tr th:only-of-type {\n",
       "        vertical-align: middle;\n",
       "    }\n",
       "\n",
       "    .dataframe tbody tr th {\n",
       "        vertical-align: top;\n",
       "    }\n",
       "\n",
       "    .dataframe thead th {\n",
       "        text-align: right;\n",
       "    }\n",
       "</style>\n",
       "<table border=\"1\" class=\"dataframe\">\n",
       "  <thead>\n",
       "    <tr style=\"text-align: right;\">\n",
       "      <th></th>\n",
       "      <th>count</th>\n",
       "      <th>mean</th>\n",
       "      <th>std</th>\n",
       "      <th>min</th>\n",
       "      <th>25%</th>\n",
       "      <th>50%</th>\n",
       "      <th>75%</th>\n",
       "      <th>max</th>\n",
       "    </tr>\n",
       "    <tr>\n",
       "      <th>exp_group</th>\n",
       "      <th></th>\n",
       "      <th></th>\n",
       "      <th></th>\n",
       "      <th></th>\n",
       "      <th></th>\n",
       "      <th></th>\n",
       "      <th></th>\n",
       "      <th></th>\n",
       "    </tr>\n",
       "  </thead>\n",
       "  <tbody>\n",
       "    <tr>\n",
       "      <th>1</th>\n",
       "      <td>10020.0</td>\n",
       "      <td>0.215280</td>\n",
       "      <td>0.069918</td>\n",
       "      <td>0.029943</td>\n",
       "      <td>0.167667</td>\n",
       "      <td>0.206353</td>\n",
       "      <td>0.252001</td>\n",
       "      <td>0.623289</td>\n",
       "    </tr>\n",
       "    <tr>\n",
       "      <th>2</th>\n",
       "      <td>9877.0</td>\n",
       "      <td>0.212508</td>\n",
       "      <td>0.123362</td>\n",
       "      <td>0.031289</td>\n",
       "      <td>0.106683</td>\n",
       "      <td>0.157961</td>\n",
       "      <td>0.310366</td>\n",
       "      <td>0.766708</td>\n",
       "    </tr>\n",
       "  </tbody>\n",
       "</table>\n",
       "</div>"
      ],
      "text/plain": [
       "             count      mean       std       min       25%       50%  \\\n",
       "exp_group                                                              \n",
       "1          10020.0  0.215280  0.069918  0.029943  0.167667  0.206353   \n",
       "2           9877.0  0.212508  0.123362  0.031289  0.106683  0.157961   \n",
       "\n",
       "                75%       max  \n",
       "exp_group                      \n",
       "1          0.252001  0.623289  \n",
       "2          0.310366  0.766708  "
      ]
     },
     "execution_count": 11,
     "metadata": {},
     "output_type": "execute_result"
    }
   ],
   "source": [
    "# описательная статистика\n",
    "pd.concat([control, test]).groupby('exp_group').smoothed_ctr.describe()"
   ]
  },
  {
   "cell_type": "code",
   "execution_count": 23,
   "id": "48088769-3fcd-4565-acbf-ad0d7105076d",
   "metadata": {},
   "outputs": [
    {
     "data": {
      "text/plain": [
       "<Axes: xlabel='ctr', ylabel='Count'>"
      ]
     },
     "execution_count": 23,
     "metadata": {},
     "output_type": "execute_result"
    },
    {
     "data": {
      "image/png": "[encoded data removed]",
      "text/plain": [
       "<Figure size 842.4x595.44 with 1 Axes>"
      ]
     },
     "metadata": {},
     "output_type": "display_data"
    }
   ],
   "source": [
    "# визуализация распределений\n",
    "sns.histplot(data=df1, x='ctr', hue='exp_group', palette=['r', 'b'])"
   ]
  },
  {
   "cell_type": "code",
   "execution_count": 13,
   "id": "92e95781-5c33-48e4-9acc-91226a4ffe75",
   "metadata": {},
   "outputs": [
    {
     "data": {
      "text/plain": [
       "Ttest_indResult(statistic=1.9460491517027683, pvalue=0.05166679015318526)"
      ]
     },
     "execution_count": 13,
     "metadata": {},
     "output_type": "execute_result"
    }
   ],
   "source": [
    "# t-тест\n",
    "stats.ttest_ind(control.smoothed_ctr, test.smoothed_ctr, equal_var=False)"
   ]
  },
  {
   "cell_type": "markdown",
   "id": "825be5e9-5c6d-42bc-b8d8-8da4e62d8340",
   "metadata": {},
   "source": [
    "Значение pvalue в t-тесте стало значительно меньше, но не позволяет отклонить гипотезу о равенстве средних и как было отмечено раннее тест может не работать из-за отклонения распределения от нормального."
   ]
  },
  {
   "cell_type": "code",
   "execution_count": 14,
   "id": "6bad37b3-7b3a-422c-a6ca-db8dae6ca7d9",
   "metadata": {},
   "outputs": [
    {
     "data": {
      "text/plain": [
       "MannwhitneyuResult(statistic=55528353.0, pvalue=2.396534039374286e-50)"
      ]
     },
     "execution_count": 14,
     "metadata": {},
     "output_type": "execute_result"
    }
   ],
   "source": [
    "# тест Манна-Уитни\n",
    "stats.mannwhitneyu(control.smoothed_ctr, test.smoothed_ctr)"
   ]
  },
  {
   "cell_type": "markdown",
   "id": "433d9598-5e7a-4172-96a3-66df815ca19d",
   "metadata": {},
   "source": [
    "В целом наблюдения по анализу метрики сглаженный CTR те же, что и по обычному CTR. Визуальных отличий не замечено, описательная статистика имеет схожие тенденции, тесты показывают аналогичные результаты."
   ]
  },
  {
   "cell_type": "markdown",
   "id": "757eeb62-1c31-495f-94c9-ea426328e30b",
   "metadata": {},
   "source": [
    "# Пуассоновский бутстреп"
   ]
  },
  {
   "cell_type": "markdown",
   "id": "5dc4ecab-cf42-4396-9143-ee60bbb1c1ce",
   "metadata": {},
   "source": [
    "Попробуем сравнить общегрупповой CTR, для этого нагенерируем псевдовыборки с возращением, применив разобранный в лекции Пуассоновский бутстреп"
   ]
  },
  {
   "cell_type": "code",
   "execution_count": 24,
   "id": "86acecf6-e587-47ad-b018-7144a7b62632",
   "metadata": {},
   "outputs": [
    {
     "data": {
      "text/plain": [
       "<Axes: ylabel='Count'>"
      ]
     },
     "execution_count": 24,
     "metadata": {},
     "output_type": "execute_result"
    },
    {
     "data": {
      "image/png": "[encoded data removed]",
      "text/plain": [
       "<Figure size 842.4x595.44 with 1 Axes>"
      ]
     },
     "metadata": {},
     "output_type": "display_data"
    }
   ],
   "source": [
    "def bootstrap(likes1, views1, likes2, views2, n_bootstrap=2000):\n",
    "\n",
    "    poisson_bootstraps1 = stats.poisson(1).rvs(\n",
    "        (n_bootstrap, len(likes1))).astype(np.int64)\n",
    "\n",
    "    poisson_bootstraps2 = stats.poisson(1).rvs(\n",
    "            (n_bootstrap, len(likes2))).astype(np.int64)\n",
    "    \n",
    "    globalCTR1 = (poisson_bootstraps1*likes1).sum(axis=1)/(poisson_bootstraps1*views1).sum(axis=1)\n",
    "    \n",
    "    globalCTR2 = (poisson_bootstraps2*likes2).sum(axis=1)/(poisson_bootstraps2*views2).sum(axis=1)\n",
    "\n",
    "    return globalCTR1, globalCTR2\n",
    "\n",
    "\n",
    "likes1 = control.likes.to_numpy()\n",
    "views1 = control.views.to_numpy()\n",
    "likes2 = test.likes.to_numpy()\n",
    "views2 = test.views.to_numpy()\n",
    "\n",
    "ctr1, ctr2 = bootstrap(likes1, views1, likes2, views2)\n",
    "\n",
    "sns.histplot(ctr1)\n",
    "sns.histplot(ctr2)"
   ]
  },
  {
   "cell_type": "markdown",
   "id": "c0a99e01-3582-48b4-94fa-e0bb916db00f",
   "metadata": {},
   "source": [
    "Распределения общегрупповых CRT по псевдовыборкам из тестовой и контрольной групп не пересекаются, следовательно можно утверждать что различия статистически значимы, p-value при проведения тестов будет равен 0."
   ]
  },
  {
   "cell_type": "code",
   "execution_count": 25,
   "id": "2fcbf8cb-08cd-4cbc-9d02-8bf41b622674",
   "metadata": {},
   "outputs": [
    {
     "data": {
      "text/plain": [
       "<Axes: ylabel='Count'>"
      ]
     },
     "execution_count": 25,
     "metadata": {},
     "output_type": "execute_result"
    },
    {
     "data": {
      "image/png": "[encoded data removed]",
      "text/plain": [
       "<Figure size 842.4x595.44 with 1 Axes>"
      ]
     },
     "metadata": {},
     "output_type": "display_data"
    }
   ],
   "source": [
    "# визуализируем распределние разницы глобальных CTR\n",
    "sns.histplot(ctr2 - ctr1)"
   ]
  },
  {
   "cell_type": "markdown",
   "id": "7764cd2c-b34e-4617-a7cf-37ba3ba734d5",
   "metadata": {},
   "source": [
    "Распределение разницы глобальных CTR тестовой и котрольной групп не пересекает ноль, все значения отрицательные. Это позволяет нам утверждать с помощью бутстрепа, что тестовая группа показала худший результат по CTR чем контрольная."
   ]
  },
  {
   "cell_type": "markdown",
   "id": "2c0b63d9-805a-4f85-bb96-5572cc519dd6",
   "metadata": {},
   "source": [
    "# Бакетное преобразование"
   ]
  },
  {
   "cell_type": "code",
   "execution_count": 17,
   "id": "5fc8c0d6-3512-4e80-a8ff-63b7e794e9c8",
   "metadata": {},
   "outputs": [
    {
     "name": "stdout",
     "output_type": "stream",
     "text": [
      "   exp_group  bucket  bucket_ctr\n",
      "0          1       0    0.200592\n",
      "1          2       0    0.196510\n",
      "2          1       1    0.208799\n",
      "3          2       1    0.210375\n",
      "4          1       2    0.204632\n"
     ]
    }
   ],
   "source": [
    "# считываем нужные данные из clickhouse в датафрейм\n",
    "q = \"\"\"\n",
    "\n",
    "SELECT exp_group, bucket,\n",
    "    sum(likes)/sum(views) as bucket_ctr\n",
    "FROM (SELECT exp_group, \n",
    "        xxHash64(user_id)%50 as bucket,\n",
    "        user_id,\n",
    "        sum(action = 'like') as likes,\n",
    "        sum(action = 'view') as views,\n",
    "        likes/views as ctr\n",
    "    FROM {db}.feed_actions \n",
    "    WHERE toDate(time) between '2023-07-30' and '2023-08-05'\n",
    "        and exp_group in (1,2)\n",
    "    GROUP BY exp_group, bucket, user_id)\n",
    "GROUP BY exp_group, bucket\n",
    "\"\"\"\n",
    "\n",
    "df2 = pandahouse.read_clickhouse(q, connection=connection)\n",
    "\n",
    "# выводи заголовок датафрейма\n",
    "print(df2.head())\n"
   ]
  },
  {
   "cell_type": "code",
   "execution_count": 18,
   "id": "f1278088-6d59-4df4-ba3e-a2e68f15a0c8",
   "metadata": {},
   "outputs": [
    {
     "data": {
      "text/html": [
       "<div>\n",
       "<style scoped>\n",
       "    .dataframe tbody tr th:only-of-type {\n",
       "        vertical-align: middle;\n",
       "    }\n",
       "\n",
       "    .dataframe tbody tr th {\n",
       "        vertical-align: top;\n",
       "    }\n",
       "\n",
       "    .dataframe thead th {\n",
       "        text-align: right;\n",
       "    }\n",
       "</style>\n",
       "<table border=\"1\" class=\"dataframe\">\n",
       "  <thead>\n",
       "    <tr style=\"text-align: right;\">\n",
       "      <th></th>\n",
       "      <th>count</th>\n",
       "      <th>mean</th>\n",
       "      <th>std</th>\n",
       "      <th>min</th>\n",
       "      <th>25%</th>\n",
       "      <th>50%</th>\n",
       "      <th>75%</th>\n",
       "      <th>max</th>\n",
       "    </tr>\n",
       "    <tr>\n",
       "      <th>exp_group</th>\n",
       "      <th></th>\n",
       "      <th></th>\n",
       "      <th></th>\n",
       "      <th></th>\n",
       "      <th></th>\n",
       "      <th></th>\n",
       "      <th></th>\n",
       "      <th></th>\n",
       "    </tr>\n",
       "  </thead>\n",
       "  <tbody>\n",
       "    <tr>\n",
       "      <th>1</th>\n",
       "      <td>50.0</td>\n",
       "      <td>0.209694</td>\n",
       "      <td>0.004261</td>\n",
       "      <td>0.199407</td>\n",
       "      <td>0.207635</td>\n",
       "      <td>0.209667</td>\n",
       "      <td>0.212077</td>\n",
       "      <td>0.218501</td>\n",
       "    </tr>\n",
       "    <tr>\n",
       "      <th>2</th>\n",
       "      <td>50.0</td>\n",
       "      <td>0.200457</td>\n",
       "      <td>0.010824</td>\n",
       "      <td>0.180041</td>\n",
       "      <td>0.193531</td>\n",
       "      <td>0.197906</td>\n",
       "      <td>0.205990</td>\n",
       "      <td>0.229383</td>\n",
       "    </tr>\n",
       "  </tbody>\n",
       "</table>\n",
       "</div>"
      ],
      "text/plain": [
       "           count      mean       std       min       25%       50%       75%  \\\n",
       "exp_group                                                                      \n",
       "1           50.0  0.209694  0.004261  0.199407  0.207635  0.209667  0.212077   \n",
       "2           50.0  0.200457  0.010824  0.180041  0.193531  0.197906  0.205990   \n",
       "\n",
       "                max  \n",
       "exp_group            \n",
       "1          0.218501  \n",
       "2          0.229383  "
      ]
     },
     "execution_count": 18,
     "metadata": {},
     "output_type": "execute_result"
    }
   ],
   "source": [
    "# описательная статистика\n",
    "df2.groupby('exp_group').bucket_ctr.describe()"
   ]
  },
  {
   "cell_type": "code",
   "execution_count": 26,
   "id": "56965446-0a11-4485-b041-6c849646fcff",
   "metadata": {},
   "outputs": [
    {
     "data": {
      "text/plain": [
       "<Axes: xlabel='bucket_ctr', ylabel='Count'>"
      ]
     },
     "execution_count": 26,
     "metadata": {},
     "output_type": "execute_result"
    },
    {
     "data": {
      "image/png": "[encoded data removed]",
      "text/plain": [
       "<Figure size 842.4x595.44 with 1 Axes>"
      ]
     },
     "metadata": {},
     "output_type": "display_data"
    }
   ],
   "source": [
    "# визуализируем распределение бакетного CTR\n",
    "sns.histplot(df2, x='bucket_ctr', \n",
    "             hue='exp_group', \n",
    "             palette=['r', 'b'])"
   ]
  },
  {
   "cell_type": "markdown",
   "id": "acf6200b-ad36-42d5-bae9-495fb290a969",
   "metadata": {},
   "source": [
    "Явно заметны различия, сами распределения не критично отклонены от нормальных."
   ]
  },
  {
   "cell_type": "code",
   "execution_count": 20,
   "id": "b694b7f3-441c-496b-b93d-8a1d1bc923d1",
   "metadata": {},
   "outputs": [
    {
     "data": {
      "text/plain": [
       "Ttest_indResult(statistic=5.614819358149381, pvalue=4.592644937473873e-07)"
      ]
     },
     "execution_count": 20,
     "metadata": {},
     "output_type": "execute_result"
    }
   ],
   "source": [
    "# t-тест\n",
    "stats.ttest_ind(df2[df2.exp_group == 1].bucket_ctr, \n",
    "                   df2[df2.exp_group == 2].bucket_ctr, \n",
    "                   equal_var = False)"
   ]
  },
  {
   "cell_type": "code",
   "execution_count": 21,
   "id": "c634e172-06e8-478f-bf0d-e2d1f5681372",
   "metadata": {},
   "outputs": [
    {
     "data": {
      "text/plain": [
       "MannwhitneyuResult(statistic=1997.0, pvalue=2.6576427804010095e-07)"
      ]
     },
     "execution_count": 21,
     "metadata": {},
     "output_type": "execute_result"
    }
   ],
   "source": [
    "# тест Манна-Уитни\n",
    "stats.mannwhitneyu(df2[df2.exp_group == 1].bucket_ctr, \n",
    "                   df2[df2.exp_group == 2].bucket_ctr)"
   ]
  },
  {
   "cell_type": "markdown",
   "id": "dd2856fb-879e-4d04-8c2b-25ab5d203519",
   "metadata": {},
   "source": [
    "Среднее значение бакетного CTR выше в контрольной группе, t-тест и тест Манна-Уитни прокрашиваются, есть основания предполагать что различия статистически значимы."
   ]
  },
  {
   "cell_type": "markdown",
   "id": "de4ccc0c-ccb8-4908-a679-e047c8d5086d",
   "metadata": {},
   "source": [
    "# Выводы\n",
    "Краткие выводы по каждому из примененых методов анализа были приведены выше. В целом есть основания утверждать, что метрика CTR в тестовой группе оказалась ниже и различия статистически значимы, поэтому не рекомендуется раскатывать новый алгоритм на всех пользователей. В то же время стоит отметить, что преположительно на некоторые сегменты пользователей новый алгоритм влияет положительно и имеет смысл провести дополнительный анализ для выявления этих сегментов."
   ]
  }
 ],
 "metadata": {
  "kernelspec": {
   "display_name": "Python 3 (ipykernel)",
   "language": "python",
   "name": "python3"
  },
  "language_info": {
   "codemirror_mode": {
    "name": "ipython",
    "version": 3
   },
   "file_extension": ".py",
   "mimetype": "text/x-python",
   "name": "python",
   "nbconvert_exporter": "python",
   "pygments_lexer": "ipython3",
   "version": "3.8.10"
  }
 },
 "nbformat": 4,
 "nbformat_minor": 5
}
